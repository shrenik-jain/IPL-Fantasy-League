{
 "cells": [
  {
   "cell_type": "code",
   "execution_count": 1,
   "metadata": {
    "_cell_guid": "b1076dfc-b9ad-4769-8c92-a6c4dae69d19",
    "_uuid": "8f2839f25d086af736a60e9eeb907d3b93b6e0e5",
    "execution": {
     "iopub.execute_input": "2021-02-05T11:51:27.978398Z",
     "iopub.status.busy": "2021-02-05T11:51:27.977705Z",
     "iopub.status.idle": "2021-02-05T11:51:28.945668Z",
     "shell.execute_reply": "2021-02-05T11:51:28.944287Z"
    },
    "papermill": {
     "duration": 0.996857,
     "end_time": "2021-02-05T11:51:28.945987",
     "exception": false,
     "start_time": "2021-02-05T11:51:27.949130",
     "status": "completed"
    },
    "tags": []
   },
   "outputs": [
    {
     "name": "stdout",
     "output_type": "stream",
     "text": [
      "/kaggle/input/ipl-2020-player-performance/IPL 2020 Squads.csv\n",
      "/kaggle/input/ipl-2020-player-performance/sample_submission.csv\n",
      "/kaggle/input/ipl-2020-player-performance/Matches IPL 2020.csv\n",
      "/kaggle/input/ipl-2020-player-performance/Matches IPL 2008-2019.csv\n",
      "/kaggle/input/ipl-2020-player-performance/Training.csv\n"
     ]
    }
   ],
   "source": [
    "# This Python 3 environment comes with many helpful analytics libraries installed\n",
    "# It is defined by the kaggle/python Docker image: https://github.com/kaggle/docker-python\n",
    "# For example, here's several helpful packages to load\n",
    "\n",
    "import numpy as np # linear algebra\n",
    "import pandas as pd # data processing, CSV file I/O (e.g. pd.read_csv)\n",
    "import matplotlib.pyplot as plt\n",
    "%matplotlib inline\n",
    "plt.style.use('seaborn-whitegrid')\n",
    "import seaborn as sns\n",
    "\n",
    "# Input data files are available in the read-only \"../input/\" directory\n",
    "# For example, running this (by clicking run or pressing Shift+Enter) will list all files under the input directory\n",
    "\n",
    "import os\n",
    "for dirname, _, filenames in os.walk('/kaggle/input'):\n",
    "    for filename in filenames:\n",
    "        print(os.path.join(dirname, filename))\n",
    "\n",
    "# You can write up to 20GB to the current directory (/kaggle/working/) that gets preserved as output when you create a version using \"Save & Run All\" \n",
    "# You can also write temporary files to /kaggle/temp/, but they won't be saved outside of the current session"
   ]
  },
  {
   "cell_type": "code",
   "execution_count": 2,
   "metadata": {
    "execution": {
     "iopub.execute_input": "2021-02-05T11:51:28.989198Z",
     "iopub.status.busy": "2021-02-05T11:51:28.988291Z",
     "iopub.status.idle": "2021-02-05T11:51:29.111319Z",
     "shell.execute_reply": "2021-02-05T11:51:29.110184Z"
    },
    "papermill": {
     "duration": 0.145779,
     "end_time": "2021-02-05T11:51:29.111475",
     "exception": false,
     "start_time": "2021-02-05T11:51:28.965696",
     "status": "completed"
    },
    "tags": []
   },
   "outputs": [
    {
     "data": {
      "text/html": [
       "<div>\n",
       "<style scoped>\n",
       "    .dataframe tbody tr th:only-of-type {\n",
       "        vertical-align: middle;\n",
       "    }\n",
       "\n",
       "    .dataframe tbody tr th {\n",
       "        vertical-align: top;\n",
       "    }\n",
       "\n",
       "    .dataframe thead th {\n",
       "        text-align: right;\n",
       "    }\n",
       "</style>\n",
       "<table border=\"1\" class=\"dataframe\">\n",
       "  <thead>\n",
       "    <tr style=\"text-align: right;\">\n",
       "      <th></th>\n",
       "      <th>Id</th>\n",
       "      <th>Runs</th>\n",
       "      <th>Boundaries</th>\n",
       "      <th>Six</th>\n",
       "      <th>Fifty</th>\n",
       "      <th>Hundred</th>\n",
       "      <th>Duck</th>\n",
       "      <th>Batting_Points</th>\n",
       "      <th>Wickets</th>\n",
       "      <th>4W_Haul</th>\n",
       "      <th>5W_Haul</th>\n",
       "      <th>Maidens</th>\n",
       "      <th>Bowling_Points</th>\n",
       "      <th>Total Points</th>\n",
       "    </tr>\n",
       "  </thead>\n",
       "  <tbody>\n",
       "    <tr>\n",
       "      <th>0</th>\n",
       "      <td>1_Bipul Sharma</td>\n",
       "      <td>0</td>\n",
       "      <td>0</td>\n",
       "      <td>0</td>\n",
       "      <td>0</td>\n",
       "      <td>0</td>\n",
       "      <td>0</td>\n",
       "      <td>0</td>\n",
       "      <td>1</td>\n",
       "      <td>0</td>\n",
       "      <td>0</td>\n",
       "      <td>0</td>\n",
       "      <td>25</td>\n",
       "      <td>25</td>\n",
       "    </tr>\n",
       "    <tr>\n",
       "      <th>1</th>\n",
       "      <td>1_DJ Hooda</td>\n",
       "      <td>16</td>\n",
       "      <td>1</td>\n",
       "      <td>1</td>\n",
       "      <td>0</td>\n",
       "      <td>0</td>\n",
       "      <td>0</td>\n",
       "      <td>19</td>\n",
       "      <td>1</td>\n",
       "      <td>0</td>\n",
       "      <td>0</td>\n",
       "      <td>0</td>\n",
       "      <td>25</td>\n",
       "      <td>44</td>\n",
       "    </tr>\n",
       "    <tr>\n",
       "      <th>2</th>\n",
       "      <td>1_KM Jadhav</td>\n",
       "      <td>31</td>\n",
       "      <td>5</td>\n",
       "      <td>1</td>\n",
       "      <td>0</td>\n",
       "      <td>0</td>\n",
       "      <td>0</td>\n",
       "      <td>38</td>\n",
       "      <td>0</td>\n",
       "      <td>0</td>\n",
       "      <td>0</td>\n",
       "      <td>0</td>\n",
       "      <td>0</td>\n",
       "      <td>38</td>\n",
       "    </tr>\n",
       "    <tr>\n",
       "      <th>3</th>\n",
       "      <td>1_Mandeep Singh</td>\n",
       "      <td>24</td>\n",
       "      <td>5</td>\n",
       "      <td>0</td>\n",
       "      <td>0</td>\n",
       "      <td>0</td>\n",
       "      <td>0</td>\n",
       "      <td>29</td>\n",
       "      <td>0</td>\n",
       "      <td>0</td>\n",
       "      <td>0</td>\n",
       "      <td>0</td>\n",
       "      <td>0</td>\n",
       "      <td>29</td>\n",
       "    </tr>\n",
       "    <tr>\n",
       "      <th>4</th>\n",
       "      <td>1_Yuvraj Singh</td>\n",
       "      <td>62</td>\n",
       "      <td>10</td>\n",
       "      <td>3</td>\n",
       "      <td>1</td>\n",
       "      <td>0</td>\n",
       "      <td>0</td>\n",
       "      <td>86</td>\n",
       "      <td>0</td>\n",
       "      <td>0</td>\n",
       "      <td>0</td>\n",
       "      <td>0</td>\n",
       "      <td>0</td>\n",
       "      <td>86</td>\n",
       "    </tr>\n",
       "  </tbody>\n",
       "</table>\n",
       "</div>"
      ],
      "text/plain": [
       "                Id  Runs  Boundaries  Six  Fifty  Hundred  Duck  \\\n",
       "0   1_Bipul Sharma     0           0    0      0        0     0   \n",
       "1       1_DJ Hooda    16           1    1      0        0     0   \n",
       "2      1_KM Jadhav    31           5    1      0        0     0   \n",
       "3  1_Mandeep Singh    24           5    0      0        0     0   \n",
       "4   1_Yuvraj Singh    62          10    3      1        0     0   \n",
       "\n",
       "   Batting_Points  Wickets  4W_Haul  5W_Haul  Maidens  Bowling_Points  \\\n",
       "0               0        1        0        0        0              25   \n",
       "1              19        1        0        0        0              25   \n",
       "2              38        0        0        0        0               0   \n",
       "3              29        0        0        0        0               0   \n",
       "4              86        0        0        0        0               0   \n",
       "\n",
       "   Total Points  \n",
       "0            25  \n",
       "1            44  \n",
       "2            38  \n",
       "3            29  \n",
       "4            86  "
      ]
     },
     "execution_count": 2,
     "metadata": {},
     "output_type": "execute_result"
    }
   ],
   "source": [
    "df_train = pd.read_csv('../input/ipl-2020-player-performance/Training.csv')\n",
    "match2020 = pd.read_csv('../input/ipl-2020-player-performance/Matches IPL 2020.csv')\n",
    "prev_match = pd.read_csv('../input/ipl-2020-player-performance/Matches IPL 2008-2019.csv')\n",
    "players =  pd.read_csv('../input/ipl-2020-player-performance/IPL 2020 Squads.csv', encoding='windows-1254')\n",
    "df_train.head()"
   ]
  },
  {
   "cell_type": "code",
   "execution_count": 3,
   "metadata": {
    "execution": {
     "iopub.execute_input": "2021-02-05T11:51:29.157714Z",
     "iopub.status.busy": "2021-02-05T11:51:29.156799Z",
     "iopub.status.idle": "2021-02-05T11:51:29.161285Z",
     "shell.execute_reply": "2021-02-05T11:51:29.160653Z"
    },
    "papermill": {
     "duration": 0.031917,
     "end_time": "2021-02-05T11:51:29.161431",
     "exception": false,
     "start_time": "2021-02-05T11:51:29.129514",
     "status": "completed"
    },
    "tags": []
   },
   "outputs": [
    {
     "data": {
      "text/plain": [
       "match_id             0\n",
       "season               0\n",
       "city                 7\n",
       "date                 0\n",
       "team1                0\n",
       "team2                0\n",
       "toss_winner          0\n",
       "toss_decision        0\n",
       "result               0\n",
       "dl_applied           0\n",
       "winner               4\n",
       "win_by_runs          0\n",
       "win_by_wickets       0\n",
       "player_of_match      4\n",
       "venue                0\n",
       "umpire1              2\n",
       "umpire2              2\n",
       "umpire3            637\n",
       "dtype: int64"
      ]
     },
     "execution_count": 3,
     "metadata": {},
     "output_type": "execute_result"
    }
   ],
   "source": [
    "prev_match.isna().sum()"
   ]
  },
  {
   "cell_type": "markdown",
   "metadata": {
    "papermill": {
     "duration": 0.018601,
     "end_time": "2021-02-05T11:51:29.198949",
     "exception": false,
     "start_time": "2021-02-05T11:51:29.180348",
     "status": "completed"
    },
    "tags": []
   },
   "source": [
    "Quite a few Null Values"
   ]
  },
  {
   "cell_type": "markdown",
   "metadata": {
    "papermill": {
     "duration": 0.018276,
     "end_time": "2021-02-05T11:51:29.235911",
     "exception": false,
     "start_time": "2021-02-05T11:51:29.217635",
     "status": "completed"
    },
    "tags": []
   },
   "source": [
    "# **Visualization**"
   ]
  },
  {
   "cell_type": "code",
   "execution_count": 4,
   "metadata": {
    "execution": {
     "iopub.execute_input": "2021-02-05T11:51:29.294385Z",
     "iopub.status.busy": "2021-02-05T11:51:29.293353Z",
     "iopub.status.idle": "2021-02-05T11:51:29.518084Z",
     "shell.execute_reply": "2021-02-05T11:51:29.517396Z"
    },
    "papermill": {
     "duration": 0.263698,
     "end_time": "2021-02-05T11:51:29.518230",
     "exception": false,
     "start_time": "2021-02-05T11:51:29.254532",
     "status": "completed"
    },
    "tags": []
   },
   "outputs": [
    {
     "data": {
      "image/png": "[encoded data removed]",
      "text/plain": [
       "<Figure size 1080x288 with 1 Axes>"
      ]
     },
     "metadata": {},
     "output_type": "display_data"
    }
   ],
   "source": [
    "plt.subplots(figsize = (15,4))\n",
    "sns.countplot(x = prev_match['season'] , data = prev_match)\n",
    "plt.show()"
   ]
  },
  {
   "cell_type": "markdown",
   "metadata": {
    "papermill": {
     "duration": 0.020022,
     "end_time": "2021-02-05T11:51:29.558122",
     "exception": false,
     "start_time": "2021-02-05T11:51:29.538100",
     "status": "completed"
    },
    "tags": []
   },
   "source": [
    "Most Matches Played in 2013"
   ]
  },
  {
   "cell_type": "code",
   "execution_count": 5,
   "metadata": {
    "execution": {
     "iopub.execute_input": "2021-02-05T11:51:29.699775Z",
     "iopub.status.busy": "2021-02-05T11:51:29.697112Z",
     "iopub.status.idle": "2021-02-05T11:51:29.858870Z",
     "shell.execute_reply": "2021-02-05T11:51:29.858332Z"
    },
    "papermill": {
     "duration": 0.281741,
     "end_time": "2021-02-05T11:51:29.859016",
     "exception": false,
     "start_time": "2021-02-05T11:51:29.577275",
     "status": "completed"
    },
    "tags": []
   },
   "outputs": [
    {
     "data": {
      "image/png": "[encoded data removed]",
      "text/plain": [
       "<Figure size 1080x288 with 1 Axes>"
      ]
     },
     "metadata": {},
     "output_type": "display_data"
    }
   ],
   "source": [
    "plt.subplots(figsize = (15,4))\n",
    "sns.countplot(x = prev_match['city'] , data = prev_match , \n",
    "              order = prev_match.city.value_counts().iloc[:9].index)\n",
    "plt.show()"
   ]
  },
  {
   "cell_type": "markdown",
   "metadata": {
    "papermill": {
     "duration": 0.020447,
     "end_time": "2021-02-05T11:51:29.900310",
     "exception": false,
     "start_time": "2021-02-05T11:51:29.879863",
     "status": "completed"
    },
    "tags": []
   },
   "source": [
    "Most Matches played in Mumbai\n",
    "\n"
   ]
  },
  {
   "cell_type": "code",
   "execution_count": 6,
   "metadata": {
    "execution": {
     "iopub.execute_input": "2021-02-05T11:51:29.955484Z",
     "iopub.status.busy": "2021-02-05T11:51:29.947118Z",
     "iopub.status.idle": "2021-02-05T11:51:30.101226Z",
     "shell.execute_reply": "2021-02-05T11:51:30.100630Z"
    },
    "papermill": {
     "duration": 0.180364,
     "end_time": "2021-02-05T11:51:30.101375",
     "exception": false,
     "start_time": "2021-02-05T11:51:29.921011",
     "status": "completed"
    },
    "tags": []
   },
   "outputs": [
    {
     "data": {
      "image/png": "[encoded data removed]",
      "text/plain": [
       "<Figure size 1080x288 with 1 Axes>"
      ]
     },
     "metadata": {},
     "output_type": "display_data"
    }
   ],
   "source": [
    "plt.subplots(figsize = (15,4))\n",
    "sns.countplot(x = prev_match['winner'] , data = prev_match ,\n",
    "              order = prev_match.winner.value_counts().iloc[:5].index)\n",
    "plt.show()"
   ]
  },
  {
   "cell_type": "markdown",
   "metadata": {
    "papermill": {
     "duration": 0.021305,
     "end_time": "2021-02-05T11:51:30.144146",
     "exception": false,
     "start_time": "2021-02-05T11:51:30.122841",
     "status": "completed"
    },
    "tags": []
   },
   "source": [
    "Mumbai Indians Won the Most Matches"
   ]
  },
  {
   "cell_type": "code",
   "execution_count": 7,
   "metadata": {
    "execution": {
     "iopub.execute_input": "2021-02-05T11:51:30.193378Z",
     "iopub.status.busy": "2021-02-05T11:51:30.192715Z",
     "iopub.status.idle": "2021-02-05T11:51:30.337725Z",
     "shell.execute_reply": "2021-02-05T11:51:30.337134Z"
    },
    "papermill": {
     "duration": 0.172177,
     "end_time": "2021-02-05T11:51:30.337887",
     "exception": false,
     "start_time": "2021-02-05T11:51:30.165710",
     "status": "completed"
    },
    "tags": []
   },
   "outputs": [
    {
     "data": {
      "image/png": "[encoded data removed]",
      "text/plain": [
       "<Figure size 1440x288 with 1 Axes>"
      ]
     },
     "metadata": {},
     "output_type": "display_data"
    }
   ],
   "source": [
    "best_player = df_train.nlargest(5 , ['Batting_Points'])\n",
    "plt.subplots(figsize = (20,4))\n",
    "plt.bar(best_player['Id'] , best_player['Batting_Points'] , color = 'lightblue')\n",
    "plt.show()"
   ]
  },
  {
   "cell_type": "markdown",
   "metadata": {
    "papermill": {
     "duration": 0.025811,
     "end_time": "2021-02-05T11:51:30.389076",
     "exception": false,
     "start_time": "2021-02-05T11:51:30.363265",
     "status": "completed"
    },
    "tags": []
   },
   "source": [
    "Chris Gayle is the Best Player"
   ]
  },
  {
   "cell_type": "markdown",
   "metadata": {
    "papermill": {
     "duration": 0.025924,
     "end_time": "2021-02-05T11:51:30.441217",
     "exception": false,
     "start_time": "2021-02-05T11:51:30.415293",
     "status": "completed"
    },
    "tags": []
   },
   "source": [
    "# **Data Cleaning**"
   ]
  },
  {
   "cell_type": "code",
   "execution_count": 8,
   "metadata": {
    "execution": {
     "iopub.execute_input": "2021-02-05T11:51:30.508824Z",
     "iopub.status.busy": "2021-02-05T11:51:30.507728Z",
     "iopub.status.idle": "2021-02-05T11:51:48.002105Z",
     "shell.execute_reply": "2021-02-05T11:51:48.002649Z"
    },
    "papermill": {
     "duration": 17.533473,
     "end_time": "2021-02-05T11:51:48.002858",
     "exception": false,
     "start_time": "2021-02-05T11:51:30.469385",
     "status": "completed"
    },
    "tags": []
   },
   "outputs": [
    {
     "name": "stderr",
     "output_type": "stream",
     "text": [
      "/opt/conda/lib/python3.7/site-packages/ipykernel_launcher.py:5: SettingWithCopyWarning: \n",
      "A value is trying to be set on a copy of a slice from a DataFrame\n",
      "\n",
      "See the caveats in the documentation: https://pandas.pydata.org/pandas-docs/stable/user_guide/indexing.html#returning-a-view-versus-a-copy\n",
      "  \"\"\"\n",
      "/opt/conda/lib/python3.7/site-packages/ipykernel_launcher.py:6: SettingWithCopyWarning: \n",
      "A value is trying to be set on a copy of a slice from a DataFrame\n",
      "\n",
      "See the caveats in the documentation: https://pandas.pydata.org/pandas-docs/stable/user_guide/indexing.html#returning-a-view-versus-a-copy\n",
      "  \n"
     ]
    },
    {
     "data": {
      "text/html": [
       "<div>\n",
       "<style scoped>\n",
       "    .dataframe tbody tr th:only-of-type {\n",
       "        vertical-align: middle;\n",
       "    }\n",
       "\n",
       "    .dataframe tbody tr th {\n",
       "        vertical-align: top;\n",
       "    }\n",
       "\n",
       "    .dataframe thead th {\n",
       "        text-align: right;\n",
       "    }\n",
       "</style>\n",
       "<table border=\"1\" class=\"dataframe\">\n",
       "  <thead>\n",
       "    <tr style=\"text-align: right;\">\n",
       "      <th></th>\n",
       "      <th>Id</th>\n",
       "      <th>Runs</th>\n",
       "      <th>Boundaries</th>\n",
       "      <th>Six</th>\n",
       "      <th>Fifty</th>\n",
       "      <th>Hundred</th>\n",
       "      <th>Duck</th>\n",
       "      <th>Batting_Points</th>\n",
       "      <th>Wickets</th>\n",
       "      <th>4W_Haul</th>\n",
       "      <th>5W_Haul</th>\n",
       "      <th>Maidens</th>\n",
       "      <th>Bowling_Points</th>\n",
       "      <th>Total Points</th>\n",
       "      <th>player</th>\n",
       "      <th>number</th>\n",
       "    </tr>\n",
       "  </thead>\n",
       "  <tbody>\n",
       "    <tr>\n",
       "      <th>0</th>\n",
       "      <td>1_Bipul Sharma</td>\n",
       "      <td>0</td>\n",
       "      <td>0</td>\n",
       "      <td>0</td>\n",
       "      <td>0</td>\n",
       "      <td>0</td>\n",
       "      <td>0</td>\n",
       "      <td>0</td>\n",
       "      <td>1</td>\n",
       "      <td>0</td>\n",
       "      <td>0</td>\n",
       "      <td>0</td>\n",
       "      <td>25</td>\n",
       "      <td>25</td>\n",
       "      <td>Bipul Sharma</td>\n",
       "      <td>1</td>\n",
       "    </tr>\n",
       "    <tr>\n",
       "      <th>1</th>\n",
       "      <td>1_DJ Hooda</td>\n",
       "      <td>16</td>\n",
       "      <td>1</td>\n",
       "      <td>1</td>\n",
       "      <td>0</td>\n",
       "      <td>0</td>\n",
       "      <td>0</td>\n",
       "      <td>19</td>\n",
       "      <td>1</td>\n",
       "      <td>0</td>\n",
       "      <td>0</td>\n",
       "      <td>0</td>\n",
       "      <td>25</td>\n",
       "      <td>44</td>\n",
       "      <td>DJ Hooda</td>\n",
       "      <td>1</td>\n",
       "    </tr>\n",
       "    <tr>\n",
       "      <th>2</th>\n",
       "      <td>1_KM Jadhav</td>\n",
       "      <td>31</td>\n",
       "      <td>5</td>\n",
       "      <td>1</td>\n",
       "      <td>0</td>\n",
       "      <td>0</td>\n",
       "      <td>0</td>\n",
       "      <td>38</td>\n",
       "      <td>0</td>\n",
       "      <td>0</td>\n",
       "      <td>0</td>\n",
       "      <td>0</td>\n",
       "      <td>0</td>\n",
       "      <td>38</td>\n",
       "      <td>KM Jadhav</td>\n",
       "      <td>1</td>\n",
       "    </tr>\n",
       "    <tr>\n",
       "      <th>3</th>\n",
       "      <td>1_Mandeep Singh</td>\n",
       "      <td>24</td>\n",
       "      <td>5</td>\n",
       "      <td>0</td>\n",
       "      <td>0</td>\n",
       "      <td>0</td>\n",
       "      <td>0</td>\n",
       "      <td>29</td>\n",
       "      <td>0</td>\n",
       "      <td>0</td>\n",
       "      <td>0</td>\n",
       "      <td>0</td>\n",
       "      <td>0</td>\n",
       "      <td>29</td>\n",
       "      <td>Mandeep Singh</td>\n",
       "      <td>1</td>\n",
       "    </tr>\n",
       "    <tr>\n",
       "      <th>4</th>\n",
       "      <td>1_Yuvraj Singh</td>\n",
       "      <td>62</td>\n",
       "      <td>10</td>\n",
       "      <td>3</td>\n",
       "      <td>1</td>\n",
       "      <td>0</td>\n",
       "      <td>0</td>\n",
       "      <td>86</td>\n",
       "      <td>0</td>\n",
       "      <td>0</td>\n",
       "      <td>0</td>\n",
       "      <td>0</td>\n",
       "      <td>0</td>\n",
       "      <td>86</td>\n",
       "      <td>Yuvraj Singh</td>\n",
       "      <td>1</td>\n",
       "    </tr>\n",
       "  </tbody>\n",
       "</table>\n",
       "</div>"
      ],
      "text/plain": [
       "                Id  Runs  Boundaries  Six  Fifty  Hundred  Duck  \\\n",
       "0   1_Bipul Sharma     0           0    0      0        0     0   \n",
       "1       1_DJ Hooda    16           1    1      0        0     0   \n",
       "2      1_KM Jadhav    31           5    1      0        0     0   \n",
       "3  1_Mandeep Singh    24           5    0      0        0     0   \n",
       "4   1_Yuvraj Singh    62          10    3      1        0     0   \n",
       "\n",
       "   Batting_Points  Wickets  4W_Haul  5W_Haul  Maidens  Bowling_Points  \\\n",
       "0               0        1        0        0        0              25   \n",
       "1              19        1        0        0        0              25   \n",
       "2              38        0        0        0        0               0   \n",
       "3              29        0        0        0        0               0   \n",
       "4              86        0        0        0        0               0   \n",
       "\n",
       "   Total Points         player number  \n",
       "0            25   Bipul Sharma      1  \n",
       "1            44       DJ Hooda      1  \n",
       "2            38      KM Jadhav      1  \n",
       "3            29  Mandeep Singh      1  \n",
       "4            86   Yuvraj Singh      1  "
      ]
     },
     "execution_count": 8,
     "metadata": {},
     "output_type": "execute_result"
    }
   ],
   "source": [
    "df_train['player'] = df_train['Id']\n",
    "df_train['number'] = df_train['Id']\n",
    "\n",
    "for i in range(len(df_train)):\n",
    "    df_train['player'][i] = df_train['Id'][i].split(\"_\")[-1]\n",
    "    df_train['number'][i] = int(df_train['Id'][i].split('_')[:1][0])\n",
    "    \n",
    "df_train.head()"
   ]
  },
  {
   "cell_type": "code",
   "execution_count": 9,
   "metadata": {
    "execution": {
     "iopub.execute_input": "2021-02-05T11:51:48.060515Z",
     "iopub.status.busy": "2021-02-05T11:51:48.059458Z",
     "iopub.status.idle": "2021-02-05T11:51:48.065694Z",
     "shell.execute_reply": "2021-02-05T11:51:48.065174Z"
    },
    "papermill": {
     "duration": 0.039414,
     "end_time": "2021-02-05T11:51:48.065860",
     "exception": false,
     "start_time": "2021-02-05T11:51:48.026446",
     "status": "completed"
    },
    "tags": []
   },
   "outputs": [],
   "source": [
    "df = pd.DataFrame()\n",
    "df['match_number'] = df_train['number']\n",
    "df['player'] = df_train['player']\n",
    "df['total_score'] = df_train['Total Points']"
   ]
  },
  {
   "cell_type": "code",
   "execution_count": 10,
   "metadata": {
    "execution": {
     "iopub.execute_input": "2021-02-05T11:51:48.124214Z",
     "iopub.status.busy": "2021-02-05T11:51:48.123191Z",
     "iopub.status.idle": "2021-02-05T11:51:48.151250Z",
     "shell.execute_reply": "2021-02-05T11:51:48.150608Z"
    },
    "papermill": {
     "duration": 0.061384,
     "end_time": "2021-02-05T11:51:48.151393",
     "exception": false,
     "start_time": "2021-02-05T11:51:48.090009",
     "status": "completed"
    },
    "tags": []
   },
   "outputs": [
    {
     "data": {
      "text/html": [
       "<div>\n",
       "<style scoped>\n",
       "    .dataframe tbody tr th:only-of-type {\n",
       "        vertical-align: middle;\n",
       "    }\n",
       "\n",
       "    .dataframe tbody tr th {\n",
       "        vertical-align: top;\n",
       "    }\n",
       "\n",
       "    .dataframe thead th {\n",
       "        text-align: right;\n",
       "    }\n",
       "</style>\n",
       "<table border=\"1\" class=\"dataframe\">\n",
       "  <thead>\n",
       "    <tr style=\"text-align: right;\">\n",
       "      <th></th>\n",
       "      <th>match_number</th>\n",
       "      <th>total_score</th>\n",
       "    </tr>\n",
       "    <tr>\n",
       "      <th>player</th>\n",
       "      <th></th>\n",
       "      <th></th>\n",
       "    </tr>\n",
       "  </thead>\n",
       "  <tbody>\n",
       "    <tr>\n",
       "      <th>A Ashish Reddy</th>\n",
       "      <td>331</td>\n",
       "      <td>0</td>\n",
       "    </tr>\n",
       "    <tr>\n",
       "      <th>A Ashish Reddy</th>\n",
       "      <td>341</td>\n",
       "      <td>50</td>\n",
       "    </tr>\n",
       "    <tr>\n",
       "      <th>A Ashish Reddy</th>\n",
       "      <td>346</td>\n",
       "      <td>38</td>\n",
       "    </tr>\n",
       "    <tr>\n",
       "      <th>A Ashish Reddy</th>\n",
       "      <td>348</td>\n",
       "      <td>25</td>\n",
       "    </tr>\n",
       "    <tr>\n",
       "      <th>A Ashish Reddy</th>\n",
       "      <td>352</td>\n",
       "      <td>28</td>\n",
       "    </tr>\n",
       "    <tr>\n",
       "      <th>...</th>\n",
       "      <td>...</td>\n",
       "      <td>...</td>\n",
       "    </tr>\n",
       "    <tr>\n",
       "      <th>Z Khan</th>\n",
       "      <td>612</td>\n",
       "      <td>25</td>\n",
       "    </tr>\n",
       "    <tr>\n",
       "      <th>Z Khan</th>\n",
       "      <td>623</td>\n",
       "      <td>27</td>\n",
       "    </tr>\n",
       "    <tr>\n",
       "      <th>Z Khan</th>\n",
       "      <td>625</td>\n",
       "      <td>0</td>\n",
       "    </tr>\n",
       "    <tr>\n",
       "      <th>Z Khan</th>\n",
       "      <td>628</td>\n",
       "      <td>0</td>\n",
       "    </tr>\n",
       "    <tr>\n",
       "      <th>Z Khan</th>\n",
       "      <td>632</td>\n",
       "      <td>25</td>\n",
       "    </tr>\n",
       "  </tbody>\n",
       "</table>\n",
       "<p>15916 rows × 2 columns</p>\n",
       "</div>"
      ],
      "text/plain": [
       "                match_number  total_score\n",
       "player                                   \n",
       "A Ashish Reddy           331            0\n",
       "A Ashish Reddy           341           50\n",
       "A Ashish Reddy           346           38\n",
       "A Ashish Reddy           348           25\n",
       "A Ashish Reddy           352           28\n",
       "...                      ...          ...\n",
       "Z Khan                   612           25\n",
       "Z Khan                   623           27\n",
       "Z Khan                   625            0\n",
       "Z Khan                   628            0\n",
       "Z Khan                   632           25\n",
       "\n",
       "[15916 rows x 2 columns]"
      ]
     },
     "execution_count": 10,
     "metadata": {},
     "output_type": "execute_result"
    }
   ],
   "source": [
    "df = df.groupby(['player', 'match_number'], axis = 0, as_index = False).sum()\n",
    "df.index = df['player']\n",
    "df.drop('player', axis = 1, inplace = True)\n",
    "df"
   ]
  },
  {
   "cell_type": "code",
   "execution_count": 11,
   "metadata": {
    "execution": {
     "iopub.execute_input": "2021-02-05T11:51:48.207236Z",
     "iopub.status.busy": "2021-02-05T11:51:48.206280Z",
     "iopub.status.idle": "2021-02-05T11:51:48.233349Z",
     "shell.execute_reply": "2021-02-05T11:51:48.233976Z"
    },
    "papermill": {
     "duration": 0.057914,
     "end_time": "2021-02-05T11:51:48.234167",
     "exception": false,
     "start_time": "2021-02-05T11:51:48.176253",
     "status": "completed"
    },
    "tags": []
   },
   "outputs": [],
   "source": [
    "match1 = df[df.match_number == 1]['total_score'].sort_index(ascending = True)\n",
    "match2 = df[df.match_number == 2]['total_score'].sort_index(ascending = True)\n",
    "match3 = df[df.match_number == 3]['total_score'].sort_index(ascending = True)\n",
    "match4 = df[df.match_number == 4]['total_score'].sort_index(ascending = True)"
   ]
  },
  {
   "cell_type": "code",
   "execution_count": 12,
   "metadata": {
    "execution": {
     "iopub.execute_input": "2021-02-05T11:51:48.286583Z",
     "iopub.status.busy": "2021-02-05T11:51:48.285957Z",
     "iopub.status.idle": "2021-02-05T11:51:48.534968Z",
     "shell.execute_reply": "2021-02-05T11:51:48.535484Z"
    },
    "papermill": {
     "duration": 0.277303,
     "end_time": "2021-02-05T11:51:48.535673",
     "exception": false,
     "start_time": "2021-02-05T11:51:48.258370",
     "status": "completed"
    },
    "tags": []
   },
   "outputs": [
    {
     "data": {
      "text/html": [
       "<div>\n",
       "<style scoped>\n",
       "    .dataframe tbody tr th:only-of-type {\n",
       "        vertical-align: middle;\n",
       "    }\n",
       "\n",
       "    .dataframe tbody tr th {\n",
       "        vertical-align: top;\n",
       "    }\n",
       "\n",
       "    .dataframe thead th {\n",
       "        text-align: right;\n",
       "    }\n",
       "</style>\n",
       "<table border=\"1\" class=\"dataframe\">\n",
       "  <thead>\n",
       "    <tr style=\"text-align: right;\">\n",
       "      <th></th>\n",
       "      <th>match_number</th>\n",
       "      <th>total_score</th>\n",
       "    </tr>\n",
       "    <tr>\n",
       "      <th>player</th>\n",
       "      <th></th>\n",
       "      <th></th>\n",
       "    </tr>\n",
       "  </thead>\n",
       "  <tbody>\n",
       "    <tr>\n",
       "      <th>A Ashish Reddy</th>\n",
       "      <td>603</td>\n",
       "      <td>2</td>\n",
       "    </tr>\n",
       "    <tr>\n",
       "      <th>A Chandila</th>\n",
       "      <td>436</td>\n",
       "      <td>25</td>\n",
       "    </tr>\n",
       "    <tr>\n",
       "      <th>A Chopra</th>\n",
       "      <td>121</td>\n",
       "      <td>13</td>\n",
       "    </tr>\n",
       "    <tr>\n",
       "      <th>A Choudhary</th>\n",
       "      <td>45</td>\n",
       "      <td>33</td>\n",
       "    </tr>\n",
       "    <tr>\n",
       "      <th>A Dananjaya</th>\n",
       "      <td>7902</td>\n",
       "      <td>4</td>\n",
       "    </tr>\n",
       "  </tbody>\n",
       "</table>\n",
       "</div>"
      ],
      "text/plain": [
       "                match_number  total_score\n",
       "player                                   \n",
       "A Ashish Reddy           603            2\n",
       "A Chandila               436           25\n",
       "A Chopra                 121           13\n",
       "A Choudhary               45           33\n",
       "A Dananjaya             7902            4"
      ]
     },
     "execution_count": 12,
     "metadata": {},
     "output_type": "execute_result"
    }
   ],
   "source": [
    "train_df = df.groupby('player').apply(lambda x: x.iloc[1:-1])\n",
    "test_df = df.groupby('player').tail(1)\n",
    "test_df.head()"
   ]
  },
  {
   "cell_type": "markdown",
   "metadata": {
    "papermill": {
     "duration": 0.02464,
     "end_time": "2021-02-05T11:51:48.585197",
     "exception": false,
     "start_time": "2021-02-05T11:51:48.560557",
     "status": "completed"
    },
    "tags": []
   },
   "source": [
    "# **Model**"
   ]
  },
  {
   "cell_type": "code",
   "execution_count": 13,
   "metadata": {
    "execution": {
     "iopub.execute_input": "2021-02-05T11:51:48.638729Z",
     "iopub.status.busy": "2021-02-05T11:51:48.638084Z",
     "iopub.status.idle": "2021-02-05T11:51:49.270510Z",
     "shell.execute_reply": "2021-02-05T11:51:49.269936Z"
    },
    "papermill": {
     "duration": 0.660153,
     "end_time": "2021-02-05T11:51:49.270656",
     "exception": false,
     "start_time": "2021-02-05T11:51:48.610503",
     "status": "completed"
    },
    "tags": []
   },
   "outputs": [
    {
     "name": "stderr",
     "output_type": "stream",
     "text": [
      "/opt/conda/lib/python3.7/site-packages/statsmodels/tsa/holtwinters/model.py:429: FutureWarning: After 0.13 initialization must be handled at model creation\n",
      "  FutureWarning,\n"
     ]
    },
    {
     "data": {
      "text/plain": [
       "player\n",
       "A Ashish Reddy    17.921571\n",
       "A Chandila        17.804561\n",
       "A Chopra          17.687550\n",
       "A Choudhary       17.570539\n",
       "A Dananjaya       17.453528\n",
       "                    ...    \n",
       "YV Takawale       46.902421\n",
       "Yashpal Singh     47.019432\n",
       "Younis Khan       47.136442\n",
       "Yuvraj Singh      47.253453\n",
       "Z Khan            47.370464\n",
       "Name: forecast, Length: 559, dtype: float64"
      ]
     },
     "execution_count": 13,
     "metadata": {},
     "output_type": "execute_result"
    }
   ],
   "source": [
    "from statsmodels.tsa.holtwinters import ExponentialSmoothing \n",
    "\n",
    "model = ExponentialSmoothing(np.asarray(train_df['total_score']) , seasonal_periods = 10 , \n",
    "                            trend = 'additive' , seasonal = None)\n",
    "\n",
    "model_fit = model.fit(smoothing_level = 0.2 , smoothing_trend = 0.01 , optimized = False)\n",
    "\n",
    "params = model_fit.params\n",
    "\n",
    "test = test_df.copy()\n",
    "\n",
    "test['forecast'] = model_fit.forecast(559)\n",
    "test['forecast'].abs()"
   ]
  },
  {
   "cell_type": "markdown",
   "metadata": {
    "papermill": {
     "duration": 0.025447,
     "end_time": "2021-02-05T11:51:49.322031",
     "exception": false,
     "start_time": "2021-02-05T11:51:49.296584",
     "status": "completed"
    },
    "tags": []
   },
   "source": [
    "# **Prepping Dataset for Submission**"
   ]
  },
  {
   "cell_type": "code",
   "execution_count": 14,
   "metadata": {
    "execution": {
     "iopub.execute_input": "2021-02-05T11:51:49.380952Z",
     "iopub.status.busy": "2021-02-05T11:51:49.380242Z",
     "iopub.status.idle": "2021-02-05T11:51:50.622491Z",
     "shell.execute_reply": "2021-02-05T11:51:50.621495Z"
    },
    "papermill": {
     "duration": 1.275094,
     "end_time": "2021-02-05T11:51:50.622664",
     "exception": false,
     "start_time": "2021-02-05T11:51:49.347570",
     "status": "completed"
    },
    "tags": []
   },
   "outputs": [
    {
     "name": "stderr",
     "output_type": "stream",
     "text": [
      "/opt/conda/lib/python3.7/site-packages/ipykernel_launcher.py:7: SettingWithCopyWarning: \n",
      "A value is trying to be set on a copy of a slice from a DataFrame\n",
      "\n",
      "See the caveats in the documentation: https://pandas.pydata.org/pandas-docs/stable/user_guide/indexing.html#returning-a-view-versus-a-copy\n",
      "  import sys\n",
      "/opt/conda/lib/python3.7/site-packages/ipykernel_launcher.py:8: SettingWithCopyWarning: \n",
      "A value is trying to be set on a copy of a slice from a DataFrame\n",
      "\n",
      "See the caveats in the documentation: https://pandas.pydata.org/pandas-docs/stable/user_guide/indexing.html#returning-a-view-versus-a-copy\n",
      "  \n"
     ]
    },
    {
     "data": {
      "text/html": [
       "<div>\n",
       "<style scoped>\n",
       "    .dataframe tbody tr th:only-of-type {\n",
       "        vertical-align: middle;\n",
       "    }\n",
       "\n",
       "    .dataframe tbody tr th {\n",
       "        vertical-align: top;\n",
       "    }\n",
       "\n",
       "    .dataframe thead th {\n",
       "        text-align: right;\n",
       "    }\n",
       "</style>\n",
       "<table border=\"1\" class=\"dataframe\">\n",
       "  <thead>\n",
       "    <tr style=\"text-align: right;\">\n",
       "      <th></th>\n",
       "      <th>match_number</th>\n",
       "      <th>player</th>\n",
       "    </tr>\n",
       "  </thead>\n",
       "  <tbody>\n",
       "    <tr>\n",
       "      <th>0</th>\n",
       "      <td>1216492</td>\n",
       "      <td>Bipul Sharma</td>\n",
       "    </tr>\n",
       "    <tr>\n",
       "      <th>1</th>\n",
       "      <td>1216492</td>\n",
       "      <td>DJ Hooda</td>\n",
       "    </tr>\n",
       "    <tr>\n",
       "      <th>2</th>\n",
       "      <td>1216492</td>\n",
       "      <td>KM Jadhav</td>\n",
       "    </tr>\n",
       "    <tr>\n",
       "      <th>3</th>\n",
       "      <td>1216492</td>\n",
       "      <td>Mandeep Singh</td>\n",
       "    </tr>\n",
       "    <tr>\n",
       "      <th>4</th>\n",
       "      <td>1216492</td>\n",
       "      <td>Yuvraj Singh</td>\n",
       "    </tr>\n",
       "  </tbody>\n",
       "</table>\n",
       "</div>"
      ],
      "text/plain": [
       "  match_number         player\n",
       "0      1216492   Bipul Sharma\n",
       "1      1216492       DJ Hooda\n",
       "2      1216492      KM Jadhav\n",
       "3      1216492  Mandeep Singh\n",
       "4      1216492   Yuvraj Singh"
      ]
     },
     "execution_count": 14,
     "metadata": {},
     "output_type": "execute_result"
    }
   ],
   "source": [
    "pred_df = pd.read_csv('../input/ipl-2020-player-performance/sample_submission.csv')\n",
    "\n",
    "pred_df['player'] = pred_df['Id']\n",
    "pred_df['number'] = pred_df['Id']\n",
    "\n",
    "for i in range(0, len(pred_df)):\n",
    "    pred_df['player'][i] = pred_df['Id'][i].split(\"_\")[-1]\n",
    "    pred_df['number'][i] = int(pred_df['Id'][i].split('_')[:1][0])\n",
    "    \n",
    "df = pd.DataFrame()\n",
    "df['match_number'] = pred_df['number']\n",
    "df['player'] = df_train['player']\n",
    "df.head()"
   ]
  },
  {
   "cell_type": "code",
   "execution_count": 15,
   "metadata": {
    "execution": {
     "iopub.execute_input": "2021-02-05T11:51:50.685299Z",
     "iopub.status.busy": "2021-02-05T11:51:50.684471Z",
     "iopub.status.idle": "2021-02-05T11:51:51.870316Z",
     "shell.execute_reply": "2021-02-05T11:51:51.869740Z"
    },
    "papermill": {
     "duration": 1.220936,
     "end_time": "2021-02-05T11:51:51.870469",
     "exception": false,
     "start_time": "2021-02-05T11:51:50.649533",
     "status": "completed"
    },
    "tags": []
   },
   "outputs": [
    {
     "data": {
      "text/html": [
       "<div>\n",
       "<style scoped>\n",
       "    .dataframe tbody tr th:only-of-type {\n",
       "        vertical-align: middle;\n",
       "    }\n",
       "\n",
       "    .dataframe tbody tr th {\n",
       "        vertical-align: top;\n",
       "    }\n",
       "\n",
       "    .dataframe thead th {\n",
       "        text-align: right;\n",
       "    }\n",
       "</style>\n",
       "<table border=\"1\" class=\"dataframe\">\n",
       "  <thead>\n",
       "    <tr style=\"text-align: right;\">\n",
       "      <th></th>\n",
       "      <th>match_number</th>\n",
       "    </tr>\n",
       "  </thead>\n",
       "  <tbody>\n",
       "    <tr>\n",
       "      <th>0</th>\n",
       "      <td>1216492</td>\n",
       "    </tr>\n",
       "    <tr>\n",
       "      <th>1</th>\n",
       "      <td>1216520</td>\n",
       "    </tr>\n",
       "    <tr>\n",
       "      <th>2</th>\n",
       "      <td>1216528</td>\n",
       "    </tr>\n",
       "    <tr>\n",
       "      <th>3</th>\n",
       "      <td>1216533</td>\n",
       "    </tr>\n",
       "    <tr>\n",
       "      <th>4</th>\n",
       "      <td>1216536</td>\n",
       "    </tr>\n",
       "    <tr>\n",
       "      <th>...</th>\n",
       "      <td>...</td>\n",
       "    </tr>\n",
       "    <tr>\n",
       "      <th>1274</th>\n",
       "      <td>1216535</td>\n",
       "    </tr>\n",
       "    <tr>\n",
       "      <th>1275</th>\n",
       "      <td>1216540</td>\n",
       "    </tr>\n",
       "    <tr>\n",
       "      <th>1276</th>\n",
       "      <td>1216542</td>\n",
       "    </tr>\n",
       "    <tr>\n",
       "      <th>1277</th>\n",
       "      <td>1216546</td>\n",
       "    </tr>\n",
       "    <tr>\n",
       "      <th>1278</th>\n",
       "      <td>1237181</td>\n",
       "    </tr>\n",
       "  </tbody>\n",
       "</table>\n",
       "<p>1279 rows × 1 columns</p>\n",
       "</div>"
      ],
      "text/plain": [
       "      match_number\n",
       "0          1216492\n",
       "1          1216520\n",
       "2          1216528\n",
       "3          1216533\n",
       "4          1216536\n",
       "...            ...\n",
       "1274       1216535\n",
       "1275       1216540\n",
       "1276       1216542\n",
       "1277       1216546\n",
       "1278       1237181\n",
       "\n",
       "[1279 rows x 1 columns]"
      ]
     },
     "execution_count": 15,
     "metadata": {},
     "output_type": "execute_result"
    }
   ],
   "source": [
    "df = df.groupby(['player', 'match_number'], axis = 0, as_index = False).sum()\n",
    "df.drop('player', axis = 1, inplace = True)\n",
    "df"
   ]
  },
  {
   "cell_type": "code",
   "execution_count": 16,
   "metadata": {
    "execution": {
     "iopub.execute_input": "2021-02-05T11:51:51.936337Z",
     "iopub.status.busy": "2021-02-05T11:51:51.931037Z",
     "iopub.status.idle": "2021-02-05T11:51:52.169172Z",
     "shell.execute_reply": "2021-02-05T11:51:52.168459Z"
    },
    "papermill": {
     "duration": 0.271717,
     "end_time": "2021-02-05T11:51:52.169332",
     "exception": false,
     "start_time": "2021-02-05T11:51:51.897615",
     "status": "completed"
    },
    "tags": []
   },
   "outputs": [
    {
     "data": {
      "text/plain": [
       "0        17.921571\n",
       "1        17.804561\n",
       "2        17.687550\n",
       "3        17.570539\n",
       "4        17.453528\n",
       "           ...    \n",
       "1274    131.150208\n",
       "1275    131.267219\n",
       "1276    131.384230\n",
       "1277    131.501241\n",
       "1278    131.618252\n",
       "Name: forecast, Length: 1279, dtype: float64"
      ]
     },
     "execution_count": 16,
     "metadata": {},
     "output_type": "execute_result"
    }
   ],
   "source": [
    "test_data = df.copy()\n",
    "test_data['forecast'] = model_fit.forecast(1279)\n",
    "predictions = test_data['forecast'].abs() \n",
    "\n",
    "predictions"
   ]
  },
  {
   "cell_type": "code",
   "execution_count": 17,
   "metadata": {
    "execution": {
     "iopub.execute_input": "2021-02-05T11:51:52.238596Z",
     "iopub.status.busy": "2021-02-05T11:51:52.237511Z",
     "iopub.status.idle": "2021-02-05T11:51:54.177967Z",
     "shell.execute_reply": "2021-02-05T11:51:54.177230Z"
    },
    "papermill": {
     "duration": 1.980864,
     "end_time": "2021-02-05T11:51:54.178136",
     "exception": false,
     "start_time": "2021-02-05T11:51:52.197272",
     "status": "completed"
    },
    "tags": []
   },
   "outputs": [
    {
     "name": "stderr",
     "output_type": "stream",
     "text": [
      "/opt/conda/lib/python3.7/site-packages/ipykernel_launcher.py:8: SettingWithCopyWarning: \n",
      "A value is trying to be set on a copy of a slice from a DataFrame\n",
      "\n",
      "See the caveats in the documentation: https://pandas.pydata.org/pandas-docs/stable/user_guide/indexing.html#returning-a-view-versus-a-copy\n",
      "  \n"
     ]
    }
   ],
   "source": [
    "df = pd.DataFrame()\n",
    "df['match_number'] = pred_df['number']\n",
    "df['player'] = df_train['player']\n",
    "df = df.groupby(['player', 'match_number'], axis = 0, as_index = False).sum()\n",
    "df['id'] = pred_df['number']\n",
    "\n",
    "for i in range(len(df)):\n",
    "    df['id'][i] = df['match_number'][i].astype('str') + str('_') + df['player'][i]"
   ]
  },
  {
   "cell_type": "code",
   "execution_count": 18,
   "metadata": {
    "execution": {
     "iopub.execute_input": "2021-02-05T11:51:54.239914Z",
     "iopub.status.busy": "2021-02-05T11:51:54.238938Z",
     "iopub.status.idle": "2021-02-05T11:51:54.242613Z",
     "shell.execute_reply": "2021-02-05T11:51:54.241988Z"
    },
    "papermill": {
     "duration": 0.036235,
     "end_time": "2021-02-05T11:51:54.242754",
     "exception": false,
     "start_time": "2021-02-05T11:51:54.206519",
     "status": "completed"
    },
    "tags": []
   },
   "outputs": [],
   "source": [
    "# df.drop('player' , axis = 1 , inplace = True)\n",
    "# df"
   ]
  },
  {
   "cell_type": "code",
   "execution_count": 19,
   "metadata": {
    "execution": {
     "iopub.execute_input": "2021-02-05T11:51:54.311577Z",
     "iopub.status.busy": "2021-02-05T11:51:54.305177Z",
     "iopub.status.idle": "2021-02-05T11:51:54.324113Z",
     "shell.execute_reply": "2021-02-05T11:51:54.323537Z"
    },
    "papermill": {
     "duration": 0.052971,
     "end_time": "2021-02-05T11:51:54.324268",
     "exception": false,
     "start_time": "2021-02-05T11:51:54.271297",
     "status": "completed"
    },
    "tags": []
   },
   "outputs": [
    {
     "data": {
      "text/html": [
       "<div>\n",
       "<style scoped>\n",
       "    .dataframe tbody tr th:only-of-type {\n",
       "        vertical-align: middle;\n",
       "    }\n",
       "\n",
       "    .dataframe tbody tr th {\n",
       "        vertical-align: top;\n",
       "    }\n",
       "\n",
       "    .dataframe thead th {\n",
       "        text-align: right;\n",
       "    }\n",
       "</style>\n",
       "<table border=\"1\" class=\"dataframe\">\n",
       "  <thead>\n",
       "    <tr style=\"text-align: right;\">\n",
       "      <th></th>\n",
       "      <th>match_number</th>\n",
       "      <th>player</th>\n",
       "      <th>id</th>\n",
       "      <th>Total Points</th>\n",
       "    </tr>\n",
       "  </thead>\n",
       "  <tbody>\n",
       "    <tr>\n",
       "      <th>0</th>\n",
       "      <td>1216492</td>\n",
       "      <td>A Choudhary</td>\n",
       "      <td>1216492_A Choudhary</td>\n",
       "      <td>17.921571</td>\n",
       "    </tr>\n",
       "    <tr>\n",
       "      <th>1121</th>\n",
       "      <td>1216492</td>\n",
       "      <td>Sachin Baby</td>\n",
       "      <td>1216492_Sachin Baby</td>\n",
       "      <td>113.247554</td>\n",
       "    </tr>\n",
       "    <tr>\n",
       "      <th>1094</th>\n",
       "      <td>1216492</td>\n",
       "      <td>STR Binny</td>\n",
       "      <td>1216492_STR Binny</td>\n",
       "      <td>110.088261</td>\n",
       "    </tr>\n",
       "    <tr>\n",
       "      <th>1072</th>\n",
       "      <td>1216492</td>\n",
       "      <td>SR Watson</td>\n",
       "      <td>1216492_SR Watson</td>\n",
       "      <td>107.514024</td>\n",
       "    </tr>\n",
       "    <tr>\n",
       "      <th>945</th>\n",
       "      <td>1216492</td>\n",
       "      <td>S Dhawan</td>\n",
       "      <td>1216492_S Dhawan</td>\n",
       "      <td>92.653650</td>\n",
       "    </tr>\n",
       "    <tr>\n",
       "      <th>...</th>\n",
       "      <td>...</td>\n",
       "      <td>...</td>\n",
       "      <td>...</td>\n",
       "      <td>...</td>\n",
       "    </tr>\n",
       "    <tr>\n",
       "      <th>809</th>\n",
       "      <td>1237181</td>\n",
       "      <td>PA Patel</td>\n",
       "      <td>1237181_PA Patel</td>\n",
       "      <td>76.740179</td>\n",
       "    </tr>\n",
       "    <tr>\n",
       "      <th>858</th>\n",
       "      <td>2433038</td>\n",
       "      <td>RA TripathiRA Tripathi</td>\n",
       "      <td>2433038_RA TripathiRA Tripathi</td>\n",
       "      <td>82.473709</td>\n",
       "    </tr>\n",
       "    <tr>\n",
       "      <th>78</th>\n",
       "      <td>2433038</td>\n",
       "      <td>AM RahaneAM Rahane</td>\n",
       "      <td>2433038_AM RahaneAM Rahane</td>\n",
       "      <td>8.794728</td>\n",
       "    </tr>\n",
       "    <tr>\n",
       "      <th>666</th>\n",
       "      <td>2433038</td>\n",
       "      <td>MK TiwaryMK Tiwary</td>\n",
       "      <td>2433038_MK TiwaryMK Tiwary</td>\n",
       "      <td>60.007632</td>\n",
       "    </tr>\n",
       "    <tr>\n",
       "      <th>768</th>\n",
       "      <td>2474354</td>\n",
       "      <td>NM Coulter-NileNM Coulter-Nile</td>\n",
       "      <td>2474354_NM Coulter-NileNM Coulter-Nile</td>\n",
       "      <td>71.942735</td>\n",
       "    </tr>\n",
       "  </tbody>\n",
       "</table>\n",
       "<p>1279 rows × 4 columns</p>\n",
       "</div>"
      ],
      "text/plain": [
       "      match_number                          player  \\\n",
       "0          1216492                     A Choudhary   \n",
       "1121       1216492                     Sachin Baby   \n",
       "1094       1216492                       STR Binny   \n",
       "1072       1216492                       SR Watson   \n",
       "945        1216492                        S Dhawan   \n",
       "...            ...                             ...   \n",
       "809        1237181                        PA Patel   \n",
       "858        2433038          RA TripathiRA Tripathi   \n",
       "78         2433038              AM RahaneAM Rahane   \n",
       "666        2433038              MK TiwaryMK Tiwary   \n",
       "768        2474354  NM Coulter-NileNM Coulter-Nile   \n",
       "\n",
       "                                          id  Total Points  \n",
       "0                        1216492_A Choudhary     17.921571  \n",
       "1121                     1216492_Sachin Baby    113.247554  \n",
       "1094                       1216492_STR Binny    110.088261  \n",
       "1072                       1216492_SR Watson    107.514024  \n",
       "945                         1216492_S Dhawan     92.653650  \n",
       "...                                      ...           ...  \n",
       "809                         1237181_PA Patel     76.740179  \n",
       "858           2433038_RA TripathiRA Tripathi     82.473709  \n",
       "78                2433038_AM RahaneAM Rahane      8.794728  \n",
       "666               2433038_MK TiwaryMK Tiwary     60.007632  \n",
       "768   2474354_NM Coulter-NileNM Coulter-Nile     71.942735  \n",
       "\n",
       "[1279 rows x 4 columns]"
      ]
     },
     "execution_count": 19,
     "metadata": {},
     "output_type": "execute_result"
    }
   ],
   "source": [
    "df['Total Points'] = predictions\n",
    "df = df.sort_values(by = ['match_number'])\n",
    "df"
   ]
  },
  {
   "cell_type": "code",
   "execution_count": 20,
   "metadata": {
    "execution": {
     "iopub.execute_input": "2021-02-05T11:51:54.397350Z",
     "iopub.status.busy": "2021-02-05T11:51:54.394239Z",
     "iopub.status.idle": "2021-02-05T11:51:54.401527Z",
     "shell.execute_reply": "2021-02-05T11:51:54.402064Z"
    },
    "papermill": {
     "duration": 0.048537,
     "end_time": "2021-02-05T11:51:54.402239",
     "exception": false,
     "start_time": "2021-02-05T11:51:54.353702",
     "status": "completed"
    },
    "tags": []
   },
   "outputs": [
    {
     "data": {
      "text/html": [
       "<div>\n",
       "<style scoped>\n",
       "    .dataframe tbody tr th:only-of-type {\n",
       "        vertical-align: middle;\n",
       "    }\n",
       "\n",
       "    .dataframe tbody tr th {\n",
       "        vertical-align: top;\n",
       "    }\n",
       "\n",
       "    .dataframe thead th {\n",
       "        text-align: right;\n",
       "    }\n",
       "</style>\n",
       "<table border=\"1\" class=\"dataframe\">\n",
       "  <thead>\n",
       "    <tr style=\"text-align: right;\">\n",
       "      <th></th>\n",
       "      <th>id</th>\n",
       "      <th>Total Points</th>\n",
       "    </tr>\n",
       "  </thead>\n",
       "  <tbody>\n",
       "    <tr>\n",
       "      <th>0</th>\n",
       "      <td>1216492_A Choudhary</td>\n",
       "      <td>17.921571</td>\n",
       "    </tr>\n",
       "    <tr>\n",
       "      <th>1121</th>\n",
       "      <td>1216492_Sachin Baby</td>\n",
       "      <td>113.247554</td>\n",
       "    </tr>\n",
       "    <tr>\n",
       "      <th>1094</th>\n",
       "      <td>1216492_STR Binny</td>\n",
       "      <td>110.088261</td>\n",
       "    </tr>\n",
       "    <tr>\n",
       "      <th>1072</th>\n",
       "      <td>1216492_SR Watson</td>\n",
       "      <td>107.514024</td>\n",
       "    </tr>\n",
       "    <tr>\n",
       "      <th>945</th>\n",
       "      <td>1216492_S Dhawan</td>\n",
       "      <td>92.653650</td>\n",
       "    </tr>\n",
       "    <tr>\n",
       "      <th>...</th>\n",
       "      <td>...</td>\n",
       "      <td>...</td>\n",
       "    </tr>\n",
       "    <tr>\n",
       "      <th>809</th>\n",
       "      <td>1237181_PA Patel</td>\n",
       "      <td>76.740179</td>\n",
       "    </tr>\n",
       "    <tr>\n",
       "      <th>858</th>\n",
       "      <td>2433038_RA TripathiRA Tripathi</td>\n",
       "      <td>82.473709</td>\n",
       "    </tr>\n",
       "    <tr>\n",
       "      <th>78</th>\n",
       "      <td>2433038_AM RahaneAM Rahane</td>\n",
       "      <td>8.794728</td>\n",
       "    </tr>\n",
       "    <tr>\n",
       "      <th>666</th>\n",
       "      <td>2433038_MK TiwaryMK Tiwary</td>\n",
       "      <td>60.007632</td>\n",
       "    </tr>\n",
       "    <tr>\n",
       "      <th>768</th>\n",
       "      <td>2474354_NM Coulter-NileNM Coulter-Nile</td>\n",
       "      <td>71.942735</td>\n",
       "    </tr>\n",
       "  </tbody>\n",
       "</table>\n",
       "<p>1279 rows × 2 columns</p>\n",
       "</div>"
      ],
      "text/plain": [
       "                                          id  Total Points\n",
       "0                        1216492_A Choudhary     17.921571\n",
       "1121                     1216492_Sachin Baby    113.247554\n",
       "1094                       1216492_STR Binny    110.088261\n",
       "1072                       1216492_SR Watson    107.514024\n",
       "945                         1216492_S Dhawan     92.653650\n",
       "...                                      ...           ...\n",
       "809                         1237181_PA Patel     76.740179\n",
       "858           2433038_RA TripathiRA Tripathi     82.473709\n",
       "78                2433038_AM RahaneAM Rahane      8.794728\n",
       "666               2433038_MK TiwaryMK Tiwary     60.007632\n",
       "768   2474354_NM Coulter-NileNM Coulter-Nile     71.942735\n",
       "\n",
       "[1279 rows x 2 columns]"
      ]
     },
     "execution_count": 20,
     "metadata": {},
     "output_type": "execute_result"
    }
   ],
   "source": [
    "sub = pd.DataFrame()\n",
    "sub['id'] = df['id']\n",
    "sub['Total Points'] = df['Total Points']\n",
    "sub"
   ]
  },
  {
   "cell_type": "code",
   "execution_count": 21,
   "metadata": {
    "execution": {
     "iopub.execute_input": "2021-02-05T11:51:54.467878Z",
     "iopub.status.busy": "2021-02-05T11:51:54.466627Z",
     "iopub.status.idle": "2021-02-05T11:51:54.478846Z",
     "shell.execute_reply": "2021-02-05T11:51:54.479379Z"
    },
    "papermill": {
     "duration": 0.047673,
     "end_time": "2021-02-05T11:51:54.479573",
     "exception": false,
     "start_time": "2021-02-05T11:51:54.431900",
     "status": "completed"
    },
    "tags": []
   },
   "outputs": [],
   "source": [
    "sub.to_csv('Neolen.csv', index = False)"
   ]
  },
  {
   "cell_type": "code",
   "execution_count": null,
   "metadata": {
    "papermill": {
     "duration": 0.029426,
     "end_time": "2021-02-05T11:51:54.538895",
     "exception": false,
     "start_time": "2021-02-05T11:51:54.509469",
     "status": "completed"
    },
    "tags": []
   },
   "outputs": [],
   "source": []
  }
 ],
 "metadata": {
  "kernelspec": {
   "display_name": "Python 3",
   "language": "python",
   "name": "python3"
  },
  "language_info": {
   "codemirror_mode": {
    "name": "ipython",
    "version": 3
   },
   "file_extension": ".py",
   "mimetype": "text/x-python",
   "name": "python",
   "nbconvert_exporter": "python",
   "pygments_lexer": "ipython3",
   "version": "3.7.9"
  },
  "papermill": {
   "default_parameters": {},
   "duration": 33.46515,
   "end_time": "2021-02-05T11:51:55.178390",
   "environment_variables": {},
   "exception": null,
   "input_path": "__notebook__.ipynb",
   "output_path": "__notebook__.ipynb",
   "parameters": {},
   "start_time": "2021-02-05T11:51:21.713240",
   "version": "2.2.2"
  }
 },
 "nbformat": 4,
 "nbformat_minor": 4
}
